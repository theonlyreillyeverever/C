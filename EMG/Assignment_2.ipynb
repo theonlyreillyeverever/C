{
 "cells": [
  {
   "cell_type": "code",
   "execution_count": 1,
   "metadata": {},
   "outputs": [],
   "source": [
    "import numpy as np\n",
    "import pandas as pd \n",
    "from sklearn.linear_model import LogisticRegression\n",
    "from sklearn.neighbors import KNeighborsClassifier\n",
    "from sklearn.tree import DecisionTreeClassifier\n",
    "from sklearn.model_selection import train_test_split\n",
    "from sklearn.metrics import confusion_matrix, accuracy_score\n"
   ]
  },
  {
   "cell_type": "code",
   "execution_count": 2,
   "metadata": {},
   "outputs": [],
   "source": [
    "np.random.seed(110243143)\n",
    "data = np.loadtxt('EMG.csv',skiprows=1,delimiter=',')"
   ]
  },
  {
   "cell_type": "code",
   "execution_count": 3,
   "metadata": {},
   "outputs": [
    {
     "data": {
      "text/plain": [
       "S1_0      False\n",
       "S2_0      False\n",
       "S3_0      False\n",
       "S4_0      False\n",
       "S5_0      False\n",
       "          ...  \n",
       "S5_7      False\n",
       "S6_7      False\n",
       "S7_7      False\n",
       "S8_7      False\n",
       "Target    False\n",
       "Length: 65, dtype: bool"
      ]
     },
     "execution_count": 3,
     "metadata": {},
     "output_type": "execute_result"
    }
   ],
   "source": [
    "pdData = pd.read_csv('EMG.csv')\n",
    "pdData.head()\n",
    "pdData.isnull().any()\n"
   ]
  },
  {
   "cell_type": "code",
   "execution_count": 4,
   "metadata": {
    "scrolled": true
   },
   "outputs": [],
   "source": [
    "y = pdData.Target\n",
    "X = pdData.drop('Target', axis=1)"
   ]
  },
  {
   "cell_type": "code",
   "execution_count": 5,
   "metadata": {},
   "outputs": [],
   "source": [
    "X_train, X_test, y_train, y_test = train_test_split(X, y, test_size=0.2)\n"
   ]
  },
  {
   "cell_type": "code",
   "execution_count": 6,
   "metadata": {},
   "outputs": [
    {
     "data": {
      "text/plain": [
       "GaussianNB(priors=None, var_smoothing=1e-09)"
      ]
     },
     "execution_count": 6,
     "metadata": {},
     "output_type": "execute_result"
    }
   ],
   "source": [
    "from sklearn.naive_bayes import GaussianNB\n",
    "nb_model = GaussianNB()\n",
    "\n",
    "nb_model.fit(X_train, y_train.ravel())"
   ]
  },
  {
   "cell_type": "code",
   "execution_count": 7,
   "metadata": {},
   "outputs": [],
   "source": [
    "from sklearn import metrics \n",
    "from sklearn.model_selection import GridSearchCV\n",
    "\n",
    "def analyse_results(x, y, model, title):\n",
    "    predict = model.predict(x)\n",
    "    print (\"=== \" + title + \" ===\")\n",
    "    \n",
    "    if type(model) is GridSearchCV:\n",
    "        print(\"Best values:{0}\".format(model.best_estimator_))\n",
    "    \n",
    "    print(\"Accuracy: {0}\".format(metrics.accuracy_score(y, predict)))\n",
    "    \n",
    "    print(\"Classification Report\")\n",
    "    print(metrics.classification_report(y, predict, labels=[0,1]))\n",
    "    print()"
   ]
  },
  {
   "cell_type": "code",
   "execution_count": 8,
   "metadata": {},
   "outputs": [
    {
     "name": "stdout",
     "output_type": "stream",
     "text": [
      "=== Naive Bayese Training Data ===\n",
      "Accuracy: 0.8877114108327981\n",
      "Classification Report\n",
      "              precision    recall  f1-score   support\n",
      "\n",
      "           0       0.92      0.92      0.92      2327\n",
      "           1       0.84      0.96      0.89      2324\n",
      "\n",
      "   micro avg       0.88      0.94      0.91      4651\n",
      "   macro avg       0.88      0.94      0.91      4651\n",
      "weighted avg       0.88      0.94      0.91      4651\n",
      "\n",
      "\n",
      "=== Naive Bayese Test Data ===\n",
      "Accuracy: 0.8771404109589042\n",
      "Classification Report\n",
      "              precision    recall  f1-score   support\n",
      "\n",
      "           0       0.91      0.92      0.92       583\n",
      "           1       0.82      0.95      0.88       579\n",
      "\n",
      "   micro avg       0.86      0.93      0.90      1162\n",
      "   macro avg       0.86      0.93      0.90      1162\n",
      "weighted avg       0.86      0.93      0.90      1162\n",
      "\n",
      "\n"
     ]
    }
   ],
   "source": [
    "\n",
    "analyse_results(X_train, y_train, nb_model, \"Naive Bayese Training Data\")\n",
    "analyse_results(X_test, y_test, nb_model, \"Naive Bayese Test Data\")"
   ]
  },
  {
   "cell_type": "code",
   "execution_count": 9,
   "metadata": {},
   "outputs": [],
   "source": [
    "import pandas as pd\n",
    "import seaborn as sns\n",
    "import itertools\n",
    "import matplotlib.pyplot as plt\n",
    "import numpy as np\n",
    "\n",
    "from time import time\n",
    "from sklearn.metrics import classification_report, roc_curve, auc, confusion_matrix, accuracy_score\n",
    "\n",
    "\n",
    "def vprint(obj, max_row=None, max_col=None):\n",
    "    ''' print object with custom max display vars '''\n",
    "    with pd.option_context('display.max_rows', max_row, 'display.max_columns', max_col):\n",
    "        print(obj)\n",
    "        \n",
    "def pprint(name, data):\n",
    "    ''' print label and val '''\n",
    "    print(\"{0}: {1}\".format(name, data))\n",
    "\n",
    "def show_roc_plot(X_test, y_test, model):\n",
    "    ''' plot roc curve graph '''\n",
    "    # Generate the prediction values for each of the test observations using predict_proba() function rather than just predict\n",
    "    preds = model.predict_proba(X_test)[:,1]\n",
    "\n",
    "    # Store the false positive rate(fpr), true positive rate (tpr) in vectors for use in the graph\n",
    "    fpr, tpr, _ = roc_curve(y_test, preds)\n",
    "\n",
    "    # Store the Area Under the Curve (AUC) so we can annotate our graph with theis metric\n",
    "    roc_auc = auc(fpr,tpr)\n",
    "\n",
    "    # Plot the ROC Curve\n",
    "    plt.figure()\n",
    "    lw = 2\n",
    "    plt.plot(fpr, tpr, color='darkorange',\n",
    "             lw=lw, label='ROC curve (area = %0.2f)' % roc_auc)\n",
    "    plt.plot([0, 1], [0, 1], color='navy', lw=lw, linestyle='--')\n",
    "    plt.xlim([0.0, 1.0])\n",
    "    plt.ylim([0.0, 1.05])\n",
    "    plt.xlabel('False Positive Rate')\n",
    "    plt.ylabel('True Positive Rate')\n",
    "    plt.title('Receiver operating characteristic example')\n",
    "    plt.legend(loc=\"lower right\")\n",
    "    plt.show()\n",
    "        \n",
    "def plot_confusion_matrix(y_result, y_test, classes,\n",
    "                          normalize=False,\n",
    "                          title='Confusion matrix',\n",
    "                          cmap=plt.cm.Blues):\n",
    "    \"\"\"\n",
    "    This function prints and plots the confusion matrix.\n",
    "    Normalization can be applied by setting `normalize=True`.\n",
    "    \"\"\"\n",
    "    cm = confusion_matrix(y_result, y_test)\n",
    "    \n",
    "    if normalize:\n",
    "        cm = cm.astype('float') / cm.sum(axis=1)[:, np.newaxis]\n",
    "        print(\"Normalized confusion matrix\")\n",
    "    else:\n",
    "        print('Confusion matrix, without normalization')\n",
    "\n",
    "    print(cm)\n",
    "\n",
    "    plt.imshow(cm, interpolation='nearest', cmap=cmap)\n",
    "    plt.title(title)\n",
    "    plt.colorbar()\n",
    "    tick_marks = np.arange(len(classes))\n",
    "    plt.xticks(tick_marks, classes, rotation=45)\n",
    "    plt.yticks(tick_marks, classes)\n",
    "\n",
    "    fmt = '.2f' if normalize else 'd'\n",
    "    thresh = cm.max() / 2.\n",
    "    for i, j in itertools.product(range(cm.shape[0]), range(cm.shape[1])):\n",
    "        plt.text(j, i, format(cm[i, j], fmt),\n",
    "                 horizontalalignment=\"center\",\n",
    "                 color=\"white\" if cm[i, j] > thresh else \"black\")\n",
    "\n",
    "    plt.tight_layout()\n",
    "    plt.ylabel('True label')\n",
    "    plt.xlabel('Predicted label')\n",
    "    plt.show()\n",
    "    \n",
    "def print_model_report(model, X_test, y_test, y_result, condensed, roc=True, cmap=None):\n",
    "    #print(\"Model: \\n\\n {0} \\n\\n \".format(model))\n",
    "    \n",
    "    if cmap is None:\n",
    "        cmap = plt.cm.Blues\n",
    "        \n",
    "    print(classification_report(y_test, y_result, target_names=['Closed Won', 'Closed Lost'], ))\n",
    "    \n",
    "    if not condensed:\n",
    "        plot_confusion_matrix(y_result, y_test, classes=['Closed Won', 'Closed Lost'], normalize=True, cmap=cmap)\n",
    "    \n",
    "    if roc and not condensed:\n",
    "        show_roc_plot(X_test, y_test, model)\n",
    "        \n",
    "def fit_and_evaluate_model(X_train, y_train, X_test, y_test, model, print_report=True, report_test=True, report_train=False, roc=True, condensed=False):\n",
    "    fit_start = time()\n",
    "    model.fit(X_train, y_train)\n",
    "    fit_end = time()\n",
    "    \n",
    "    if print_report:\n",
    "        predict_start = time()\n",
    "        y_pred = model.predict(X_test)\n",
    "        predict_end = time()\n",
    "        \n",
    "        fit_time = fit_end - fit_start\n",
    "        predict_time = predict_end - predict_start\n",
    "        \n",
    "        print('training time: {0} s'.format(fit_time))\n",
    "        print('testing time: {0} s'.format(predict_time))\n",
    "        print()\n",
    "        print('model params:')\n",
    "        \n",
    "        if not condensed:\n",
    "            if type(model) == 'GridSearch':\n",
    "                model_params = model.get_best_estimator_.get_params()\n",
    "            else:\n",
    "                model_params = model.get_params()\n",
    "\n",
    "            for k, v in model_params.items():\n",
    "                print('{0}: {1}'.format(k,str(v)))\n",
    "            \n",
    "        print()\n",
    "        \n",
    "        if report_train:\n",
    "            print('Training Data')\n",
    "            print()\n",
    "            y_pred_train = model.predict(X_train)\n",
    "            pprint('Training accuracy', accuracy_score(y_train, y_pred_train))\n",
    "            print_model_report(model, X_train, y_train, y_pred_train, condensed, roc=True)\n",
    "        \n",
    "        if report_test:\n",
    "            print('Test Data')\n",
    "            print()\n",
    "            pprint('Test accuracy', accuracy_score(y_test, y_pred))\n",
    "            print_model_report(model, X_test, y_test, y_pred, condensed, roc=True)\n",
    "        \n",
    "    \n",
    "    return model\n",
    "\n",
    "def fit_and_evaluate_model_accuracy(X_train, y_train, X_test, y_test, model):\n",
    "    \n",
    "    start_training = time()\n",
    "    model.fit(X_train, y_train)\n",
    "    end_training = time()\n",
    "    \n",
    "    start_prediction = time()\n",
    "    y_pred = model.predict(X_test)\n",
    "    end_prediction = time()\n",
    "    \n",
    "    y_pred_train = model.predict(X_train)\n",
    "    \n",
    "    train_time = end_training - start_training\n",
    "    prediction_time = end_prediction - start_prediction\n",
    "    \n",
    "    train_accuracy = accuracy_score(y_true=y_train, y_pred=y_pred_train)\n",
    "    test_accuracy = accuracy_score(y_true=y_test, y_pred=y_pred)\n",
    "    \n",
    "    return [train_accuracy, test_accuracy, train_time, prediction_time]\n"
   ]
  },
  {
   "cell_type": "code",
   "execution_count": 10,
   "metadata": {},
   "outputs": [
    {
     "name": "stderr",
     "output_type": "stream",
     "text": [
      "/Users/patrick/opt/anaconda3/lib/python3.7/site-packages/ipykernel_launcher.py:55: DeprecationWarning: scipy.interp is deprecated and will be removed in SciPy 2.0.0, use numpy.interp instead\n"
     ]
    },
    {
     "data": {
      "image/png": "[encoded data removed]",
      "text/plain": [
       "<Figure size 432x288 with 1 Axes>"
      ]
     },
     "metadata": {
      "needs_background": "light"
     },
     "output_type": "display_data"
    }
   ],
   "source": [
    "\n",
    "import numpy as np\n",
    "import matplotlib.pyplot as plt\n",
    "from itertools import cycle\n",
    "\n",
    "from sklearn import svm, datasets\n",
    "from sklearn.metrics import roc_curve, auc\n",
    "from sklearn.model_selection import train_test_split\n",
    "from sklearn.preprocessing import label_binarize\n",
    "from sklearn.multiclass import OneVsRestClassifier\n",
    "from scipy import interp\n",
    "from sklearn.metrics import roc_auc_score\n",
    "\n",
    "# Import some data to play with\n",
    "iris = datasets.load_iris()\n",
    "X = iris.data\n",
    "y = iris.target\n",
    "lw = 2\n",
    "\n",
    "\n",
    "# Binarize the output\n",
    "y = label_binarize(y, classes=[0, 1, 2])\n",
    "n_classes = y.shape[1]\n",
    "\n",
    "# Add noisy features to make the problem harder\n",
    "random_state = np.random.RandomState(0)\n",
    "n_samples, n_features = X.shape\n",
    "X = np.c_[X, random_state.randn(n_samples, 200 * n_features)]\n",
    "\n",
    "# shuffle and split training and test sets\n",
    "X_train, X_test, y_train, y_test = train_test_split(X, y, test_size=.5,\n",
    "                                                    random_state=0)\n",
    "\n",
    "# Learn to predict each class against the other\n",
    "classifier = OneVsRestClassifier(svm.SVC(kernel='linear', probability=True,\n",
    "                                 random_state=random_state))\n",
    "y_score = classifier.fit(X_train, y_train).decision_function(X_test)\n",
    "\n",
    "# Compute ROC curve and ROC area for each class\n",
    "fpr = dict()\n",
    "tpr = dict()\n",
    "roc_auc = dict()\n",
    "for i in range(n_classes):\n",
    "    fpr[i], tpr[i], _ = roc_curve(y_test[:, i], y_score[:, i])\n",
    "    roc_auc[i] = auc(fpr[i], tpr[i])\n",
    "\n",
    "# Compute micro-average ROC curve and ROC area\n",
    "fpr[\"micro\"], tpr[\"micro\"], _ = roc_curve(y_test.ravel(), y_score.ravel())\n",
    "roc_auc[\"micro\"] = auc(fpr[\"micro\"], tpr[\"micro\"])\n",
    "# First aggregate all false positive rates\n",
    "all_fpr = np.unique(np.concatenate([fpr[i] for i in range(n_classes)]))\n",
    "\n",
    "# Then interpolate all ROC curves at this points\n",
    "mean_tpr = np.zeros_like(all_fpr)\n",
    "for i in range(n_classes):\n",
    "    mean_tpr += interp(all_fpr, fpr[i], tpr[i])\n",
    "\n",
    "# Finally average it and compute AUC\n",
    "mean_tpr /= n_classes\n",
    "\n",
    "fpr[\"macro\"] = all_fpr\n",
    "tpr[\"macro\"] = mean_tpr\n",
    "roc_auc[\"macro\"] = auc(fpr[\"macro\"], tpr[\"macro\"])\n",
    "\n",
    "# Plot all ROC curves\n",
    "plt.figure()\n",
    "\n",
    "\n",
    "colors = cycle(['aqua', 'darkorange', 'cornflowerblue'])\n",
    "for i, color in zip(range(n_classes), colors):\n",
    "    plt.plot(fpr[i], tpr[i], color=color, lw=lw,\n",
    "             label='ROC curve of class {0} (area = {1:0.2f})'\n",
    "             ''.format(i, roc_auc[i]))\n",
    "\n",
    "plt.plot([0, 1], [0, 1], 'k--', lw=lw)\n",
    "plt.xlim([0.0, 1.0])\n",
    "plt.ylim([0.0, 1.05])\n",
    "plt.xlabel('False Positive Rate')\n",
    "plt.ylabel('True Positive Rate')\n",
    "plt.title('Some extension of Receiver operating characteristic to multi-class')\n",
    "plt.legend(loc=\"lower right\")\n",
    "plt.show()"
   ]
  },
  {
   "cell_type": "code",
   "execution_count": 36,
   "metadata": {},
   "outputs": [
    {
     "data": {
      "text/plain": [
       "KNeighborsClassifier(algorithm='auto', leaf_size=30, metric='minkowski',\n",
       "                     metric_params=None, n_jobs=None, n_neighbors=9, p=2,\n",
       "                     weights='uniform')"
      ]
     },
     "execution_count": 36,
     "metadata": {},
     "output_type": "execute_result"
    }
   ],
   "source": [
    "from sklearn.neighbors import KNeighborsClassifier\n",
    "neigh = KNeighborsClassifier(n_neighbors=9)\n",
    "neigh.fit(X_train, y_train)"
   ]
  },
  {
   "cell_type": "code",
   "execution_count": 37,
   "metadata": {},
   "outputs": [
    {
     "name": "stdout",
     "output_type": "stream",
     "text": [
      "=== Naive Bayese Training Data ===\n",
      "Accuracy: 0.4266666666666667\n",
      "Classification Report\n",
      "              precision    recall  f1-score   support\n",
      "\n",
      "           0       0.88      0.52      0.65        29\n",
      "           1       0.56      0.25      0.34        20\n",
      "\n",
      "   micro avg       0.77      0.41      0.53        49\n",
      "   macro avg       0.72      0.38      0.50        49\n",
      "weighted avg       0.75      0.41      0.53        49\n",
      " samples avg       0.27      0.27      0.27        49\n",
      "\n",
      "\n",
      "=== Naive Bayese Test Data ===\n",
      "Accuracy: 0.21333333333333335\n",
      "Classification Report\n",
      "              precision    recall  f1-score   support\n",
      "\n",
      "           0       0.64      0.43      0.51        21\n",
      "           1       0.31      0.13      0.19        30\n",
      "\n",
      "   micro avg       0.48      0.25      0.33        51\n",
      "   macro avg       0.48      0.28      0.35        51\n",
      "weighted avg       0.45      0.25      0.32        51\n",
      " samples avg       0.17      0.17      0.17        51\n",
      "\n",
      "\n"
     ]
    },
    {
     "name": "stderr",
     "output_type": "stream",
     "text": [
      "/Users/patrick/opt/anaconda3/lib/python3.7/site-packages/sklearn/metrics/_classification.py:1272: UndefinedMetricWarning: Precision and F-score are ill-defined and being set to 0.0 in samples with no predicted labels. Use `zero_division` parameter to control this behavior.\n",
      "  _warn_prf(average, modifier, msg_start, len(result))\n",
      "/Users/patrick/opt/anaconda3/lib/python3.7/site-packages/sklearn/metrics/_classification.py:1272: UndefinedMetricWarning: Recall and F-score are ill-defined and being set to 0.0 in samples with no true labels. Use `zero_division` parameter to control this behavior.\n",
      "  _warn_prf(average, modifier, msg_start, len(result))\n",
      "/Users/patrick/opt/anaconda3/lib/python3.7/site-packages/sklearn/metrics/_classification.py:1272: UndefinedMetricWarning: Precision and F-score are ill-defined and being set to 0.0 in samples with no predicted labels. Use `zero_division` parameter to control this behavior.\n",
      "  _warn_prf(average, modifier, msg_start, len(result))\n",
      "/Users/patrick/opt/anaconda3/lib/python3.7/site-packages/sklearn/metrics/_classification.py:1272: UndefinedMetricWarning: Recall and F-score are ill-defined and being set to 0.0 in samples with no true labels. Use `zero_division` parameter to control this behavior.\n",
      "  _warn_prf(average, modifier, msg_start, len(result))\n"
     ]
    }
   ],
   "source": [
    "\n",
    "analyse_results(X_train, y_train, neigh, \"Naive Bayese Training Data\")\n",
    "analyse_results(X_test, y_test, neigh, \"Naive Bayese Test Data\")"
   ]
  },
  {
   "cell_type": "code",
   "execution_count": 24,
   "metadata": {},
   "outputs": [
    {
     "data": {
      "text/plain": [
       "[Text(133.92000000000002, 190.26, 'X[2] <= 2.35\\ngini = 0.439\\nsamples = 75\\nvalue = [[46, 29]\\n[55, 20]\\n[49, 26]]'),\n",
       " Text(66.96000000000001, 135.9, 'gini = 0.0\\nsamples = 29\\nvalue = [[0, 29]\\n[29, 0]\\n[29, 0]]'),\n",
       " Text(200.88000000000002, 135.9, 'X[2] <= 5.05\\ngini = 0.328\\nsamples = 46\\nvalue = [[46, 0]\\n[26, 20]\\n[20, 26]]'),\n",
       " Text(133.92000000000002, 81.53999999999999, 'X[617] <= 1.23\\ngini = 0.11\\nsamples = 22\\nvalue = [[22, 0]\\n[2, 20]\\n[20, 2]]'),\n",
       " Text(66.96000000000001, 27.180000000000007, 'gini = 0.0\\nsamples = 20\\nvalue = [[20, 0]\\n[0, 20]\\n[20, 0]]'),\n",
       " Text(200.88000000000002, 27.180000000000007, 'gini = 0.0\\nsamples = 2\\nvalue = [[2, 0]\\n[2, 0]\\n[0, 2]]'),\n",
       " Text(267.84000000000003, 81.53999999999999, 'gini = 0.0\\nsamples = 24\\nvalue = [[24, 0]\\n[24, 0]\\n[0, 24]]')]"
      ]
     },
     "execution_count": 24,
     "metadata": {},
     "output_type": "execute_result"
    },
    {
     "data": {
      "image/png": "[encoded data removed]",
      "text/plain": [
       "<Figure size 432x288 with 1 Axes>"
      ]
     },
     "metadata": {
      "needs_background": "light"
     },
     "output_type": "display_data"
    }
   ],
   "source": [
    "from sklearn import tree\n",
    "clf = DecisionTreeClassifier()\n",
    "clf = clf.fit(X_train, y_train)\n",
    "tree.plot_tree(clf) \n"
   ]
  },
  {
   "cell_type": "code",
   "execution_count": 38,
   "metadata": {},
   "outputs": [
    {
     "name": "stdout",
     "output_type": "stream",
     "text": [
      "=== Naive Bayese Training Data ===\n",
      "Accuracy: 1.0\n",
      "Classification Report\n",
      "              precision    recall  f1-score   support\n",
      "\n",
      "           0       1.00      1.00      1.00        29\n",
      "           1       1.00      1.00      1.00        20\n",
      "\n",
      "   micro avg       1.00      1.00      1.00        49\n",
      "   macro avg       1.00      1.00      1.00        49\n",
      "weighted avg       1.00      1.00      1.00        49\n",
      " samples avg       0.65      0.65      0.65        49\n",
      "\n",
      "\n",
      "=== Naive Bayese Test Data ===\n",
      "Accuracy: 0.8666666666666667\n",
      "Classification Report\n",
      "              precision    recall  f1-score   support\n",
      "\n",
      "           0       1.00      1.00      1.00        21\n",
      "           1       0.79      0.90      0.84        30\n",
      "\n",
      "   micro avg       0.87      0.94      0.91        51\n",
      "   macro avg       0.90      0.95      0.92        51\n",
      "weighted avg       0.88      0.94      0.91        51\n",
      " samples avg       0.64      0.64      0.64        51\n",
      "\n",
      "\n"
     ]
    },
    {
     "name": "stderr",
     "output_type": "stream",
     "text": [
      "/Users/patrick/opt/anaconda3/lib/python3.7/site-packages/sklearn/metrics/_classification.py:1272: UndefinedMetricWarning: Precision and F-score are ill-defined and being set to 0.0 in samples with no predicted labels. Use `zero_division` parameter to control this behavior.\n",
      "  _warn_prf(average, modifier, msg_start, len(result))\n",
      "/Users/patrick/opt/anaconda3/lib/python3.7/site-packages/sklearn/metrics/_classification.py:1272: UndefinedMetricWarning: Recall and F-score are ill-defined and being set to 0.0 in samples with no true labels. Use `zero_division` parameter to control this behavior.\n",
      "  _warn_prf(average, modifier, msg_start, len(result))\n",
      "/Users/patrick/opt/anaconda3/lib/python3.7/site-packages/sklearn/metrics/_classification.py:1272: UndefinedMetricWarning: Precision and F-score are ill-defined and being set to 0.0 in samples with no predicted labels. Use `zero_division` parameter to control this behavior.\n",
      "  _warn_prf(average, modifier, msg_start, len(result))\n",
      "/Users/patrick/opt/anaconda3/lib/python3.7/site-packages/sklearn/metrics/_classification.py:1272: UndefinedMetricWarning: Recall and F-score are ill-defined and being set to 0.0 in samples with no true labels. Use `zero_division` parameter to control this behavior.\n",
      "  _warn_prf(average, modifier, msg_start, len(result))\n"
     ]
    }
   ],
   "source": [
    "\n",
    "analyse_results(X_train, y_train, clf, \"Naive Bayese Training Data\")\n",
    "analyse_results(X_test, y_test, clf, \"Naive Bayese Test Data\")"
   ]
  },
  {
   "cell_type": "code",
   "execution_count": null,
   "metadata": {},
   "outputs": [],
   "source": []
  }
 ],
 "metadata": {
  "kernelspec": {
   "display_name": "Python 3",
   "language": "python",
   "name": "python3"
  },
  "language_info": {
   "codemirror_mode": {
    "name": "ipython",
    "version": 3
   },
   "file_extension": ".py",
   "mimetype": "text/x-python",
   "name": "python",
   "nbconvert_exporter": "python",
   "pygments_lexer": "ipython3",
   "version": "3.7.6"
  }
 },
 "nbformat": 4,
 "nbformat_minor": 4
}
